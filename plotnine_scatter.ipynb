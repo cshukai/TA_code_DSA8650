import pandas as pd
import numpy as np
from plotnine import *
from plotnine.data import diamonds
%matplotlib inline


p = ggplot(aes(x='carat', y='price'), diamonds)
p + geom_point(aes(color='carat'))
